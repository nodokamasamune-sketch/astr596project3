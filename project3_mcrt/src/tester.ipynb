{
 "cells": [
  {
   "cell_type": "code",
   "execution_count": 1,
   "id": "1a76e753-5b6f-40c9-937b-4f3663483b63",
   "metadata": {},
   "outputs": [],
   "source": [
    "import constants as cons\n",
    "from zams import luminosity, radius\n",
    "import numpy as np\n",
    "from utils import planck_function, integrate_band\n",
    "from star import Star\n",
    "from grid import Grid"
   ]
  },
  {
   "cell_type": "code",
   "execution_count": 4,
   "id": "2201b9a9-1663-4752-8755-96b6c3043fbb",
   "metadata": {},
   "outputs": [
    {
     "data": {
      "text/plain": [
       "np.float64(593669326273.0175)"
      ]
     },
     "execution_count": 4,
     "metadata": {},
     "output_type": "execute_result"
    }
   ],
   "source": [
    "integrate_band(planck_function, 390e-7, 500e-7, 38500)"
   ]
  },
  {
   "cell_type": "code",
   "execution_count": 3,
   "id": "f937c0be-aed1-44b3-8ced-40dcf232d676",
   "metadata": {},
   "outputs": [
    {
     "name": "stdout",
     "output_type": "stream",
     "text": [
      "False\n",
      "3.84e-23\n"
     ]
    }
   ],
   "source": [
    "grid = Grid()\n",
    "print(grid.is_inside(1e20, 0, 0))\n",
    "print(grid.get_dust_density(0, 0, 0))"
   ]
  },
  {
   "cell_type": "code",
   "execution_count": 3,
   "id": "8cf4c666-6b6f-46f8-ac2a-e83710a010b9",
   "metadata": {},
   "outputs": [
    {
     "data": {
      "text/plain": [
       "(1.610210385426353, 15.891277739771917)"
      ]
     },
     "execution_count": 3,
     "metadata": {},
     "output_type": "execute_result"
    }
   ],
   "source": [
    "star = Star(2)\n",
    "star.radius, star.luminosity"
   ]
  },
  {
   "cell_type": "code",
   "execution_count": 5,
   "id": "6a6f1de6-1399-401d-aa91-bc5f593eb684",
   "metadata": {},
   "outputs": [
    {
     "data": {
      "text/plain": [
       "0.0"
      ]
     },
     "execution_count": 5,
     "metadata": {},
     "output_type": "execute_result"
    }
   ],
   "source": [
    "star.x"
   ]
  },
  {
   "cell_type": "code",
   "execution_count": 4,
   "id": "410071a7-cb75-4900-858e-1f112c61c643",
   "metadata": {},
   "outputs": [
    {
     "ename": "TypeError",
     "evalue": "cannot unpack non-iterable float object",
     "output_type": "error",
     "traceback": [
      "\u001b[31m---------------------------------------------------------------------------\u001b[39m",
      "\u001b[31mTypeError\u001b[39m                                 Traceback (most recent call last)",
      "\u001b[36mCell\u001b[39m\u001b[36m \u001b[39m\u001b[32mIn[4]\u001b[39m\u001b[32m, line 1\u001b[39m\n\u001b[32m----> \u001b[39m\u001b[32m1\u001b[39m a, b = np.random.uniform(\u001b[32m0\u001b[39m, \u001b[32m1\u001b[39m)\n\u001b[32m      2\u001b[39m a, b\n",
      "\u001b[31mTypeError\u001b[39m: cannot unpack non-iterable float object"
     ]
    }
   ],
   "source": [
    "a, b = np.random.uniform(0, 1)\n",
    "a, b"
   ]
  },
  {
   "cell_type": "code",
   "execution_count": null,
   "id": "50d080e2-5cc4-46a4-b772-dc182cf8e8d5",
   "metadata": {},
   "outputs": [],
   "source": [
    "\n",
    "class Photon:\n",
    "    def __init__(self, star, band):\n",
    "        \"\"\"\n",
    "        Initialize photon packet.\n",
    "        \n",
    "        Required attributes:\n",
    "        - x, y, z: position (cm)\n",
    "        - dir_x, dir_y, dir_z: direction unit vector\n",
    "        - L: luminosity carried (erg/s)\n",
    "        - band: band identifier ('B', 'V', or 'K')\n",
    "        - star_id: source star ID\n",
    "        - kappa: opacity for this packet (cm^2/g)\n",
    "        \"\"\"\n",
    "        \n",
    "        # randomly generated position on stellar surface\n",
    "\n",
    "        a = np.random.uniform(0, 1)\n",
    "        b = np.random.uniform(0, 1)\n",
    "\n",
    "        theta = np.arccos(2*a - 1)\n",
    "        phi = 2 * np.pi * b\n",
    "\n",
    "        self.x = star.x + star.radius * np.sin(theta) * np.cos(phi)\n",
    "        self.y = star.y + star.radius * np.sin(theta) * np.sin(phi)\n",
    "        self.z = star.z + star.radius * np.cos(theta)\n",
    "\n",
    "        # randomly generated direction\n",
    "        self.x_dir, self.y_dir, self.z_dir = sample_isotropic_direction()\n",
    "        \n",
    "        \n",
    "        # luminosity carried\n",
    "        N = 1 # number of photon packets\n",
    "        self.L = \n",
    "\n",
    "        # band\n",
    "        self.band = band\n",
    "\n",
    "        # source star ID\n",
    "        self.star_id = star.id\n",
    "\n",
    "        #kappa\n",
    "        self.kappa = star.kappa_band[band]\n",
    "\n",
    "        \n",
    "    def move(self, distance):\n",
    "        \"\"\"\n",
    "        Move photon along its direction.\n",
    "        \n",
    "        Parameters:\n",
    "        -----------\n",
    "        distance : float\n",
    "            Distance to move (cm)\n",
    "        \"\"\"\n",
    "        pass\n",
    "\n",
    "def emit_packet_from_star(star, band, L_packet):\n",
    "    \"\"\"\n",
    "    Create packet emitted from stellar surface.\n",
    "    \n",
    "    Parameters:\n",
    "    -----------\n",
    "    star : Star object\n",
    "    band : Band object or string\n",
    "    L_packet : float\n",
    "        Luminosity carried by packet\n",
    "    \n",
    "    Returns:\n",
    "    --------\n",
    "    packet : Photon object\n",
    "    \"\"\"\n",
    "\n",
    "    photon = Photon(star, band)\n",
    "\n",
    "    return photon\n",
    "\n",
    "    \n",
    "\n",
    "def sample_isotropic_direction():\n",
    "    \"\"\"\n",
    "    Sample random isotropic direction.\n",
    "    \n",
    "    Returns:\n",
    "    --------\n",
    "    dir_x, dir_y, dir_z : float\n",
    "        Unit direction vector\n",
    "    \"\"\"\n",
    "    # randomly generated direction unit vector\n",
    "\n",
    "    c = np.random.uniform(0, 1)\n",
    "    d = np.random.uniform(0, 1)\n",
    "    theta_dir = np.arccos(2*c - 1)\n",
    "    phi_dir = 2 * np.pi * d\n",
    "        \n",
    "    x_dir = np.sin(theta_dir) * np.cos(phi_dir)\n",
    "    y_dir = np.sin(theta_dir) * np.sin(phi_dir)\n",
    "    z_dir = np.cos(theta_dir)\n",
    "\n",
    "    return x_dir, y_dir, z_dir\n",
    "\n",
    "\n",
    "def distance_to_next_boundary(packet, grid):\n",
    "    \"\"\"\n",
    "    Calculate distance to next cell boundary.\n",
    "    \n",
    "    Parameters:\n",
    "    -----------\n",
    "    packet : Photon object\n",
    "    grid : Grid object\n",
    "    \n",
    "    Returns:\n",
    "    --------\n",
    "    d_next : float\n",
    "        Distance to next boundary (cm)\n",
    "    face : str\n",
    "        Which boundary ('x_min', 'x_max', 'y_min', 'y_max', 'z_min', 'z_max')\n",
    "    \"\"\"\n",
    "\n",
    "    x = packet.x\n",
    "    y = packet.y\n",
    "    z = packet.z\n",
    "\n",
    "    x_dir = packet.x_dir\n",
    "    y_dir = packet.y_dir\n",
    "    z_dir = packet.z_dir\n",
    "    \n",
    "    ix, iy, iz = get_cell_indices(self, x, y, z)\n",
    "\n",
    "    # Compute distance to next x-boundary\n",
    "    if x_dir > 0:\n",
    "        x_edge = grid.x_min + (ix + 1) * grid.dx\n",
    "        dx = (x_edge - x) / x_dir\n",
    "        face_x = 'x_max'\n",
    "    elif x_dir < 0:\n",
    "        x_edge = grid.x_min + ix * grid.dx\n",
    "        dx = (x_edge - x) / x_dir\n",
    "        face_x = 'x_min'\n",
    "\n",
    "    # Compute distance to next y-boundary\n",
    "    if y_dir > 0:\n",
    "        y_edge = grid.y_min + (iy + 1) * grid.dy\n",
    "        dy = (y_edge - y) / y_dir\n",
    "        face_y = 'y_max'\n",
    "    elif y_dir < 0:\n",
    "        y_edge = grid.y_min + iy * grid.dy\n",
    "        dy = (y_edge - y) / y_dir\n",
    "        face_y = 'y_min'\n",
    "\n",
    "\n",
    "    # Compute distance to next z-boundary\n",
    "    if z_dir > 0:\n",
    "        z_edge = grid.z_min + (iz + 1) * grid.dz\n",
    "        dz = (z_edge - z) / z_dir\n",
    "        face_z = 'z_max'\n",
    "    elif z_dir < 0:\n",
    "        z_edge = grid.z_min + iz * grid.dz\n",
    "        dz = (z_edge - z) / z_dir\n",
    "        face_z = 'z_min'\n",
    "\n",
    "\n",
    "    # Determine minimum distance\n",
    "    distances = [dx, dy, dz]\n",
    "    faces = [face_x, face_y, face_z]\n",
    "    min_index = distances.index(min(distances))\n",
    "\n",
    "    return distances[min_index], faces[min_index]\n",
    "\n",
    "\n",
    "    \n",
    "\n",
    "def propagate_packet(packet, grid):\n",
    "    \"\"\"\n",
    "    Propagate packet through grid until absorbed or escaped.\n",
    "    \n",
    "    Parameters:\n",
    "    -----------\n",
    "    packet : Photon object\n",
    "    grid : Grid object\n",
    "    \n",
    "    Returns:\n",
    "    --------\n",
    "    outcome : str\n",
    "        'absorbed' or 'escaped'\n",
    "    location : tuple\n",
    "        (ix, iy, iz) if absorbed, (x, y, z) if escaped\n",
    "    \"\"\"\n",
    "    pass\n"
   ]
  }
 ],
 "metadata": {
  "kernelspec": {
   "display_name": "Python 3 (ipykernel)",
   "language": "python",
   "name": "python3"
  },
  "language_info": {
   "codemirror_mode": {
    "name": "ipython",
    "version": 3
   },
   "file_extension": ".py",
   "mimetype": "text/x-python",
   "name": "python",
   "nbconvert_exporter": "python",
   "pygments_lexer": "ipython3",
   "version": "3.11.13"
  }
 },
 "nbformat": 4,
 "nbformat_minor": 5
}
